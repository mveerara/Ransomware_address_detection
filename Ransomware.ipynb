{
 "cells": [
  {
   "cell_type": "code",
   "execution_count": 2,
   "metadata": {},
   "outputs": [],
   "source": [
    "import pandas as pd\n",
    "import matplotlib.pyplot as plt"
   ]
  },
  {
   "cell_type": "code",
   "execution_count": 24,
   "metadata": {},
   "outputs": [],
   "source": [
    "df = pd.read_csv(\"BitcoinHeistData.csv\")\n",
    "\n",
    "whole_white_data = df[df['label']=='white']\n",
    "\n",
    "black_data = df[df['label']!='white']"
   ]
  },
  {
   "cell_type": "code",
   "execution_count": 27,
   "metadata": {},
   "outputs": [
    {
     "data": {
      "text/plain": [
       "address      42000\n",
       "year         42000\n",
       "day          42000\n",
       "length       42000\n",
       "weight       42000\n",
       "count        42000\n",
       "looped       42000\n",
       "neighbors    42000\n",
       "income       42000\n",
       "label        42000\n",
       "dtype: int64"
      ]
     },
     "execution_count": 27,
     "metadata": {},
     "output_type": "execute_result"
    }
   ],
   "source": [
    "white_data = whole_white_data[:42000]\n",
    "\n",
    "white_data.count()\n"
   ]
  },
  {
   "cell_type": "code",
   "execution_count": 15,
   "metadata": {},
   "outputs": [],
   "source": [
    "black_count = pd.DataFrame(black_data.label.value_counts())\n",
    "\n",
    "lables = list(df.label.unique())\n",
    "\n",
    "Black_lables = lables.remove('white')"
   ]
  },
  {
   "cell_type": "code",
   "execution_count": 18,
   "metadata": {},
   "outputs": [
    {
     "data": {
      "text/plain": [
       "[<matplotlib.lines.Line2D at 0xb150f60>]"
      ]
     },
     "execution_count": 18,
     "metadata": {},
     "output_type": "execute_result"
    },
    {
     "data": {
      "image/png": "[encoded data removed]",
      "text/plain": [
       "<Figure size 432x288 with 1 Axes>"
      ]
     },
     "metadata": {
      "needs_background": "light"
     },
     "output_type": "display_data"
    }
   ],
   "source": [
    "plt.plot(black_count)"
   ]
  },
  {
   "cell_type": "code",
   "execution_count": 21,
   "metadata": {},
   "outputs": [
    {
     "data": {
      "text/plain": [
       "address      41413\n",
       "year         41413\n",
       "day          41413\n",
       "length       41413\n",
       "weight       41413\n",
       "count        41413\n",
       "looped       41413\n",
       "neighbors    41413\n",
       "income       41413\n",
       "label        41413\n",
       "dtype: int64"
      ]
     },
     "execution_count": 21,
     "metadata": {},
     "output_type": "execute_result"
    }
   ],
   "source": [
    "black_data.count()\n"
   ]
  },
  {
   "cell_type": "code",
   "execution_count": 29,
   "metadata": {},
   "outputs": [
    {
     "data": {
      "text/html": [
       "<div>\n",
       "<style scoped>\n",
       "    .dataframe tbody tr th:only-of-type {\n",
       "        vertical-align: middle;\n",
       "    }\n",
       "\n",
       "    .dataframe tbody tr th {\n",
       "        vertical-align: top;\n",
       "    }\n",
       "\n",
       "    .dataframe thead th {\n",
       "        text-align: right;\n",
       "    }\n",
       "</style>\n",
       "<table border=\"1\" class=\"dataframe\">\n",
       "  <thead>\n",
       "    <tr style=\"text-align: right;\">\n",
       "      <th></th>\n",
       "      <th>year</th>\n",
       "      <th>day</th>\n",
       "      <th>length</th>\n",
       "      <th>weight</th>\n",
       "      <th>count</th>\n",
       "      <th>looped</th>\n",
       "      <th>neighbors</th>\n",
       "      <th>income</th>\n",
       "    </tr>\n",
       "  </thead>\n",
       "  <tbody>\n",
       "    <tr>\n",
       "      <th>count</th>\n",
       "      <td>83413.000000</td>\n",
       "      <td>83413.000000</td>\n",
       "      <td>83413.000000</td>\n",
       "      <td>8.341300e+04</td>\n",
       "      <td>83413.000000</td>\n",
       "      <td>83413.000000</td>\n",
       "      <td>83413.000000</td>\n",
       "      <td>8.341300e+04</td>\n",
       "    </tr>\n",
       "    <tr>\n",
       "      <th>mean</th>\n",
       "      <td>2012.924820</td>\n",
       "      <td>101.170501</td>\n",
       "      <td>29.657919</td>\n",
       "      <td>5.643001e-01</td>\n",
       "      <td>299.013895</td>\n",
       "      <td>47.302447</td>\n",
       "      <td>2.000492</td>\n",
       "      <td>5.904031e+09</td>\n",
       "    </tr>\n",
       "    <tr>\n",
       "      <th>std</th>\n",
       "      <td>2.162742</td>\n",
       "      <td>99.247235</td>\n",
       "      <td>46.521829</td>\n",
       "      <td>1.942448e+00</td>\n",
       "      <td>1044.157251</td>\n",
       "      <td>373.252420</td>\n",
       "      <td>2.105673</td>\n",
       "      <td>1.840192e+11</td>\n",
       "    </tr>\n",
       "    <tr>\n",
       "      <th>min</th>\n",
       "      <td>2011.000000</td>\n",
       "      <td>1.000000</td>\n",
       "      <td>0.000000</td>\n",
       "      <td>4.719723e-42</td>\n",
       "      <td>1.000000</td>\n",
       "      <td>0.000000</td>\n",
       "      <td>1.000000</td>\n",
       "      <td>3.000000e+07</td>\n",
       "    </tr>\n",
       "    <tr>\n",
       "      <th>25%</th>\n",
       "      <td>2011.000000</td>\n",
       "      <td>28.000000</td>\n",
       "      <td>2.000000</td>\n",
       "      <td>6.115997e-02</td>\n",
       "      <td>1.000000</td>\n",
       "      <td>0.000000</td>\n",
       "      <td>1.000000</td>\n",
       "      <td>1.000000e+08</td>\n",
       "    </tr>\n",
       "    <tr>\n",
       "      <th>50%</th>\n",
       "      <td>2011.000000</td>\n",
       "      <td>49.000000</td>\n",
       "      <td>8.000000</td>\n",
       "      <td>4.687500e-01</td>\n",
       "      <td>1.000000</td>\n",
       "      <td>0.000000</td>\n",
       "      <td>2.000000</td>\n",
       "      <td>3.330000e+08</td>\n",
       "    </tr>\n",
       "    <tr>\n",
       "      <th>75%</th>\n",
       "      <td>2015.000000</td>\n",
       "      <td>159.000000</td>\n",
       "      <td>28.000000</td>\n",
       "      <td>1.000000e+00</td>\n",
       "      <td>2.000000</td>\n",
       "      <td>0.000000</td>\n",
       "      <td>2.000000</td>\n",
       "      <td>3.398000e+09</td>\n",
       "    </tr>\n",
       "    <tr>\n",
       "      <th>max</th>\n",
       "      <td>2018.000000</td>\n",
       "      <td>365.000000</td>\n",
       "      <td>144.000000</td>\n",
       "      <td>4.982885e+02</td>\n",
       "      <td>13462.000000</td>\n",
       "      <td>11693.000000</td>\n",
       "      <td>146.000000</td>\n",
       "      <td>4.000000e+13</td>\n",
       "    </tr>\n",
       "  </tbody>\n",
       "</table>\n",
       "</div>"
      ],
      "text/plain": [
       "               year           day        length        weight         count  \\\n",
       "count  83413.000000  83413.000000  83413.000000  8.341300e+04  83413.000000   \n",
       "mean    2012.924820    101.170501     29.657919  5.643001e-01    299.013895   \n",
       "std        2.162742     99.247235     46.521829  1.942448e+00   1044.157251   \n",
       "min     2011.000000      1.000000      0.000000  4.719723e-42      1.000000   \n",
       "25%     2011.000000     28.000000      2.000000  6.115997e-02      1.000000   \n",
       "50%     2011.000000     49.000000      8.000000  4.687500e-01      1.000000   \n",
       "75%     2015.000000    159.000000     28.000000  1.000000e+00      2.000000   \n",
       "max     2018.000000    365.000000    144.000000  4.982885e+02  13462.000000   \n",
       "\n",
       "             looped     neighbors        income  \n",
       "count  83413.000000  83413.000000  8.341300e+04  \n",
       "mean      47.302447      2.000492  5.904031e+09  \n",
       "std      373.252420      2.105673  1.840192e+11  \n",
       "min        0.000000      1.000000  3.000000e+07  \n",
       "25%        0.000000      1.000000  1.000000e+08  \n",
       "50%        0.000000      2.000000  3.330000e+08  \n",
       "75%        0.000000      2.000000  3.398000e+09  \n",
       "max    11693.000000    146.000000  4.000000e+13  "
      ]
     },
     "execution_count": 29,
     "metadata": {},
     "output_type": "execute_result"
    }
   ],
   "source": [
    "df1 = black_data.append(white_data)\n",
    "\n",
    "df1.describe()"
   ]
  },
  {
   "cell_type": "code",
   "execution_count": 30,
   "metadata": {},
   "outputs": [
    {
     "name": "stdout",
     "output_type": "stream",
     "text": [
      "<class 'pandas.core.frame.DataFrame'>\n",
      "Int64Index: 83413 entries, 0 to 83412\n",
      "Data columns (total 10 columns):\n",
      "address      83413 non-null object\n",
      "year         83413 non-null int64\n",
      "day          83413 non-null int64\n",
      "length       83413 non-null int64\n",
      "weight       83413 non-null float64\n",
      "count        83413 non-null int64\n",
      "looped       83413 non-null int64\n",
      "neighbors    83413 non-null int64\n",
      "income       83413 non-null float64\n",
      "label        83413 non-null object\n",
      "dtypes: float64(2), int64(6), object(2)\n",
      "memory usage: 7.0+ MB\n"
     ]
    }
   ],
   "source": [
    "df1.info()"
   ]
  }
 ],
 "metadata": {
  "kernelspec": {
   "display_name": "Python 3",
   "language": "python",
   "name": "python3"
  },
  "language_info": {
   "codemirror_mode": {
    "name": "ipython",
    "version": 3
   },
   "file_extension": ".py",
   "mimetype": "text/x-python",
   "name": "python",
   "nbconvert_exporter": "python",
   "pygments_lexer": "ipython3",
   "version": "3.7.1"
  }
 },
 "nbformat": 4,
 "nbformat_minor": 2
}
